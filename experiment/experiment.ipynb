{
 "cells": [
  {
   "cell_type": "code",
   "execution_count": 29,
   "metadata": {},
   "outputs": [],
   "source": [
    "import os\n",
    "from langchain_community.chat_models import  ChatGooglePalm\n",
    "from langchain_core.prompts import PromptTemplate\n"
   ]
  },
  {
   "cell_type": "code",
   "execution_count": 9,
   "metadata": {},
   "outputs": [],
   "source": [
    "key=os.getenv(\"google_api_key\")"
   ]
  },
  {
   "cell_type": "code",
   "execution_count": 10,
   "metadata": {},
   "outputs": [],
   "source": [
    "llm=ChatGooglePalm(models=\"gemini-pro\",google_api_key=key)"
   ]
  },
  {
   "cell_type": "code",
   "execution_count": 37,
   "metadata": {},
   "outputs": [],
   "source": [
    "with open(r\"E:\\final_mcq_gen\\data.txt\",\"r\") as f:\n",
    "    text=f.read()"
   ]
  },
  {
   "cell_type": "code",
   "execution_count": null,
   "metadata": {},
   "outputs": [],
   "source": [
    "RESPONSE_JSON = {\n",
    "    \"1\": {\n",
    "        \"mcq\": \"multiple choice question\",\n",
    "        \"options\": {\n",
    "            \"a\": \"choice here\",\n",
    "            \"b\": \"choice here\",\n",
    "            \"c\": \"choice here\",\n",
    "            \"d\": \"choice here\",\n",
    "        },\n",
    "        \"correct\": \"correct answer\",\n",
    "    },\n",
    "    \"2\": {\n",
    "        \"mcq\": \"multiple choice question\",\n",
    "        \"options\": {\n",
    "            \"a\": \"choice here\",\n",
    "            \"b\": \"choice here\",\n",
    "            \"c\": \"choice here\",\n",
    "            \"d\": \"choice here\",\n",
    "        },\n",
    "        \"correct\": \"correct answer\",\n",
    "    },\n",
    "    \"3\": {\n",
    "        \"mcq\": \"multiple choice question\",\n",
    "        \"options\": {\n",
    "            \"a\": \"choice here\",\n",
    "            \"b\": \"choice here\",\n",
    "            \"c\": \"choice here\",\n",
    "            \"d\": \"choice here\",\n",
    "        },\n",
    "        \"correct\": \"correct answer\",\n",
    "    },\n",
    "}"
   ]
  },
  {
   "cell_type": "code",
   "execution_count": 79,
   "metadata": {},
   "outputs": [],
   "source": [
    "prompt_template = PromptTemplate.from_template(\n",
    "    '''You are an expert MCQ maker. Text For the quiz is Here {input_text}. it is your job to create {quantity} multiple choice questions from the  {subject} Domains students and Your Question Difficuuilty Level sould be  {level}.\n",
    "\n",
    "    - Here are some instruction You Must folow Otherwise You will Be Penelaized\n",
    "    No intro needed, just jump straight into the MCQs\n",
    "    Mcqs Should be in Json Format and here is Json Format {RESPONSE_JSON} and all the response of your in Json format not in String \n",
    "    Make sure the questions are not repeated and check all the questions to be conforming the text as well.\n",
    "    Ensure to make {quantity} MCQs \n",
    "    You have to Give Only the  Only Mcqs and not give any type of information  About the {subject} and only  tell the correct answer  Number in the end of Each MCQ'''\n",
    ")\n"
   ]
  },
  {
   "cell_type": "code",
   "execution_count": null,
   "metadata": {},
   "outputs": [],
   "source": []
  },
  {
   "cell_type": "code",
   "execution_count": 80,
   "metadata": {},
   "outputs": [],
   "source": [
    "prompt=prompt_template.format(input_text=text,quantity=\"5\",subject=\"Machine Learning\",level=\"Basic\")"
   ]
  },
  {
   "cell_type": "code",
   "execution_count": 81,
   "metadata": {},
   "outputs": [],
   "source": [
    "response=llm.invoke(prompt)"
   ]
  },
  {
   "cell_type": "code",
   "execution_count": 82,
   "metadata": {},
   "outputs": [
    {
     "data": {
      "text/plain": [
       "'Sure, here are 5 multiple choice questions from the Machine Learning Domains for students with a basic difficulty level:\\n\\n1. Which of the following is not a type of machine learning?\\n    * Supervised learning\\n    * Unsupervised learning\\n    * Reinforcement learning\\n    * Natural language processing\\n    * The answer is Natural language processing.\\n\\n2. Which of the following is an example of supervised learning?\\n    * Training a model to classify images of cats and dogs\\n    * Training a model to generate text\\n    * Training a model to play a game of chess\\n    * All of the above\\n    * The answer is Training a model to classify images of cats and dogs.\\n\\n3. Which of the following is an example of unsupervised learning?\\n    * Training a model to cluster data points\\n    * Training a model to recommend products\\n    * Training a model to detect fraud\\n    * All of the above\\n    * The answer is Training a model to cluster data points.\\n\\n4. Which of the following is an example of reinforcement learning?\\n    * Training a model to play a game of chess\\n    * Training a model to drive a car\\n    * Training a model to walk\\n    * All of the above\\n    * The answer is Training a model to play a game of chess.\\n\\n5. Which of the following is not a challenge in machine learning?\\n    * Overfitting\\n    * Underfitting\\n    * Data scarcity\\n    * All of the above\\n    * The answer is All of the above.\\n\\nI hope these questions are helpful!'"
      ]
     },
     "execution_count": 82,
     "metadata": {},
     "output_type": "execute_result"
    }
   ],
   "source": [
    "response.content"
   ]
  }
 ],
 "metadata": {
  "kernelspec": {
   "display_name": "Python 3",
   "language": "python",
   "name": "python3"
  },
  "language_info": {
   "codemirror_mode": {
    "name": "ipython",
    "version": 3
   },
   "file_extension": ".py",
   "mimetype": "text/x-python",
   "name": "python",
   "nbconvert_exporter": "python",
   "pygments_lexer": "ipython3",
   "version": "3.10.14"
  }
 },
 "nbformat": 4,
 "nbformat_minor": 2
}
