{
 "cells": [
  {
   "cell_type": "code",
   "execution_count": 160,
   "metadata": {},
   "outputs": [],
   "source": [
    "import os\n",
    "from langchain_google_genai import GoogleGenerativeAI\n",
    "from langchain_core.prompts import PromptTemplate\n"
   ]
  },
  {
   "cell_type": "code",
   "execution_count": 161,
   "metadata": {},
   "outputs": [],
   "source": [
    "key=os.getenv(\"google_api_key\")"
   ]
  },
  {
   "cell_type": "code",
   "execution_count": 162,
   "metadata": {},
   "outputs": [],
   "source": [
    "llllm = GoogleGenerativeAI(model=\"models/text-bison-001\", google_api_key=key)"
   ]
  },
  {
   "cell_type": "code",
   "execution_count": 163,
   "metadata": {},
   "outputs": [],
   "source": [
    "with open(r\"E:\\final_mcq_gen\\data.txt\",\"r\") as f:\n",
    "    text=f.read()"
   ]
  },
  {
   "cell_type": "code",
   "execution_count": 164,
   "metadata": {},
   "outputs": [],
   "source": [
    "structure = '''\n",
    "    1 : multiple choice question.\n",
    "    options\n",
    "        a: choice here\n",
    "        b: choice here\n",
    "        c: choice here\n",
    "        d: choice here\n",
    "        \n",
    "    correct: correct answer\n",
    "\n",
    "    2 : multiple choice question.\n",
    "    options\n",
    "        a: choice here\n",
    "        b: choice here\n",
    "        c: choice here\n",
    "        d: choice here\n",
    "        \n",
    "    correct: correct answer\n",
    "    3 : multiple choice question\n",
    "    options\n",
    "        a: choice here\n",
    "        b: choice here\n",
    "        c: choice here\n",
    "        d: choice here\n",
    "        \n",
    "    correct: correct answer\n",
    "    \n",
    "\n",
    "    '''"
   ]
  },
  {
   "cell_type": "code",
   "execution_count": 165,
   "metadata": {},
   "outputs": [],
   "source": [
    "prompt_template = PromptTemplate.from_template(\n",
    "    '''You are an expert MCQ maker. Text For the quiz is Here {input_text}. it is your job to create {quantity} Conceptual and real use case multiple choice questions from the  {subject} Domains students and Your Question Difficuuilty Level sould be  {level}.\n",
    "\n",
    "    - Here are some instruction You Must folow Otherwise You will Be Penelaized\n",
    "    No intro needed, just jump straight into the MCQs\n",
    "    Mcqs Should be in the Given Format and here is this format {input_format} .\n",
    "    USe different type of MCqs asking Technique to generate the Mcqs\n",
    "    Generate the Mcqs for test the ability of the Students About the {subject}\n",
    "    Make sure the questions are not repeated and check all the questions to be conforming the text as well.\n",
    "    Ensure to make {quantity} MCQs \n",
    "    You have to Give Only the  Only Mcqs and not give any type of information  About the {subject} and only  tell the correct answer  Number in the end of Each MCQ'''\n",
    ")\n"
   ]
  },
  {
   "cell_type": "code",
   "execution_count": null,
   "metadata": {},
   "outputs": [],
   "source": []
  },
  {
   "cell_type": "code",
   "execution_count": 166,
   "metadata": {},
   "outputs": [],
   "source": [
    "prompt=prompt_template.format(input_text=text,quantity=\"5\",subject=\"Advance Programming\",level=\"Advanced\",input_format=structure )"
   ]
  },
  {
   "cell_type": "code",
   "execution_count": 167,
   "metadata": {},
   "outputs": [
    {
     "data": {
      "text/plain": [
       "'You are an expert MCQ maker. Text For the quiz is Here \\n\\u2003\\nContents\\nIntroduction:\\t2\\nP1:\\t2\\nInvestigate the characteristics of the object- orientated paradigm including class relationships and SOLID principles.\\t2\\nOOPs:\\t2\\nCharacteristics of the Object-Oriented Paradigm:\\t2\\nEncapsulation:\\t2\\nPolymorphism:\\t3\\nInheritance:\\t3\\nAbstraction:\\t4\\nClass Relationships:\\t5\\nGeneralization and Inheritance:\\t5\\nRealization:\\t5\\nDependency:\\t5\\nAggregation and Composition:\\t5\\nSOLID Principles:\\t5\\nSingle Responsibility Principle (SRP):\\t5\\nOpen-Closed Principle (OCP):\\t5\\nLiskov Substitution Principle (LSP):\\t5\\nInterface Segregation Principle (ISP):\\t6\\nDependency Inversion Principle (DIP):\\t6\\nP2\\t6\\nExplain how clean coding techniques can impact on the use of data structures and operations when writing algorithms.\\t6\\nClean Coding Technique:\\t6\\nSome General Clean Coding Techniques:\\t6\\nClean Coding Techniques impacts on data structures/Operation while writing algorithms:\\t7\\nP3:\\t8\\nDesign a large data set processing application, utilising SOLID principles, clean coding techniques and a design pattern.\\t8\\nEntities and Responsibilities:\\t8\\nEntities:\\t8\\nResponsibilities:\\t8\\nOur Application of Acend Will Follow SOLID Principles:\\t9\\nSingle Responsibility Principle (SRP):\\t9\\nOpen/Closed Principle (OCP):\\t9\\nLiskov Substitution Principle (LSP):\\t9\\nInterface Segregation Principle (ISP):\\t9\\nDependency Inversion Principle (DIP):\\t9\\nImplementation:\\t9\\n\\n\\n\\n\\n\\n\\nIntroduction:\\nI am working as a programmer in a software house, and I have been assigned a project for the mobile company \\'Acend.\\' They want to create software for their mobile phone products, including A5, A7, and A9. These phones share common features such as receiving calls, dialing, texting, etc. Additionally, each type of phone has a common abstract function. I am going to develop a software application to implement this system using the C++ Language.\\nP1: \\nInvestigate the characteristics of the object- orientated paradigm including class relationships and SOLID principles.\\n\\nOOPs:\\nOOP stand for Object-Oriented Programming, and it is a programming paradigm that organizes code around the concept of objects, encapsulating data and methods. It emphasizes principles such as encapsulation, inheritance, polymorphism, and abstraction for efficient and modular software development, however I will discuss below in detail all the principle of OOPs.\\nHere is a list of some widely used OOPs Programming Languages:\\n1.\\tJava\\n2.\\tC++\\n3.\\tC#\\n4.\\tPython\\n5.\\tRuby\\nCharacteristics of the Object-Oriented Paradigm:\\nEncapsulation:\\nEncapsulation is the bundling of data (attributes) and the methods (functions) that operate on the data into a single unit, known as a class. It involves restricting access to some of an object\\'s components, protecting the integrity of the internal state and promoting modular code.\\nExample of Encapsulation:\\n \\nPolymorphism:\\nPolymorphism allows objects of different types to be treated as objects of a common type. This involves the ability to use a single interface to represent different types and perform operations on them in a consistent manner.\\nExample of Polymorphism:\\n \\n\\nInheritance:\\nInheritance is a mechanism in which a new class (derived or child class) inherits properties and behaviours from an existing class (base or parent class). It establishes an \"is-a\"  and “has-a” relationship between classes.\\nExample of Inheritance:\\n \\nAbstraction:\\nAbstraction involves simplifying complex systems by modelling classes based on their essential features, while ignoring non-essential details.\\nExample of Abstraction:\\n ¬¬\\nClass Relationships:\\nGeneralization and Inheritance:\\nGeneralization is the process of abstracting common properties into a base class, and inheritance allows new classes to inherit from it, forming an \"is-a\" relationship. Generalization and inheritance promote code reuse, create a hierarchy of classes, and enhance maintainability by capturing shared characteristics in a common base class.\\nRealization:\\nRealization is a relationship that describes how a class implements an interface, ensuring that the class provides the necessary implementations.\\nDependency:\\nDependency occurs when one class relies on another, and changes in the latter may affect the former. Reducing dependencies is crucial for maintaining a flexible and modular codebase.\\nAggregation and Composition:\\nAggregation represents a \"has-a\" relationship, where one object contains another. Composition implies a stronger ownership relationship, often denoting that one object is a part of another.\\nSOLID Principles:\\n \\nSingle Responsibility Principle (SRP):\\nSRP asserts that a class should have only one reason to change. In other words, it should encapsulate a single responsibility or task. This principle aims to avoid a class having multiple responsibilities, making code more modular and maintainable. If a class has more than one reason to change, it becomes more prone to modification errors and can be challenging to understand.\\nOpen-Closed Principle (OCP):\\nThe Open-Closed Principle suggests that software entities (such as classes, modules, or functions) should be open for extension but closed for modification. This principle encourages developers to design systems that allow new functionalities to be added through the introduction of new code without altering the existing.\\nLiskov Substitution Principle (LSP):\\nThe Liskov Substitution Principle states that objects of a superclass should be replaceable with objects of a subclass without affecting the correctness of the program. In essence, derived classes should adhere to the behavioural expectations set by their base classes. This principle ensures that substituting objects at runtime does not lead to unexpected behaviour or violate the intended functionality.\\nInterface Segregation Principle (ISP):\\nThe Interface Segregation Principle suggests that a client should not be forced to depend on interfaces they do not use. This principle encourages the creation of specific, client-focused interfaces rather than large, general-purpose interfaces. By doing so, ISP aims to prevent clients from being burdened with unnecessary dependencies on methods they don\\'t need, promoting maintainability and clarity.\\nDependency Inversion Principle (DIP):\\nThe Dependency Inversion Principle states that high-level modules should not depend on low-level modules,  both should depend on abstractions. Additionally, abstractions should not depend on details, details should depend on abstractions. DIP promotes the use of interfaces and abstract classes to decouple components, allowing for greater flexibility, adaptability, and easier maintenance. It fosters a more modular and scalable architecture by inverting the traditional dependency flow\\n\\nP2 \\nExplain how clean coding techniques can impact on the use of data structures and operations when writing algorithms.\\nClean Coding Technique:\\nClean coding technique is the process of the writing code that is easy to read, well-organized, and follows conventions that has established with the passage of the time. It emphasizes clarity, simplicity, and efficient problem-solving, and collaboration among developers. \\nSome General Clean Coding Techniques:\\n•\\tDescriptive and meaningful names for the variable, functions, and classes \\n•\\tDesign functions and classes to have a single and well-defined task\\n•\\tEliminate redundancy by abstracting common functionalities into reusable functions or classes.\\n•\\tAdd comments for focusing on explaining why something is done rather than what is done.\\n•\\tBreak down code into smaller, modular components that perform specific tasks\\n•\\tImplement clear error-handling mechanisms to gracefully handle unexpected situations \\n•\\tAvoid unnecessary complexity and favour straightforward solutions\\n\\n\\nClean Coding Techniques impacts on data structures/Operation while writing algorithms:\\n\\nNow I will explain why above mention clean coding technique must follow,  and clean coding techniques have solid impact on the use of data structures/operations when writing algorithms  \\nClean coding techniques are crucial for the effective utilization of data structures within algorithms, and neglecting these principles can result in a dozens of challenges. The practice of employing descriptive and meaningful names for variables, functions, and classes significantly impacts the readability of code, particularly in the realm of data operations. Without clear naming conventions, developers may struggle with understanding the purpose and role of specific variables or data structures, introducing a risk of misinterpretation. Simultaneously, if functions and classes lack well-defined tasks, the overall code becomes challenging to maintain. This lack of clarity extends to comprehending the involvement of data structures in the algorithm, amplifying the likelihood of errors during subsequent modifications.\\nRedundancy, especially within data structures, poses a threat to code maintenance and consistency. Failing to abstract common functionalities into reusable components may lead to code duplication, complicating updates across different segments of the codebase. The absence of meaningful comments, which should focus on explaining the rationale behind code decisions, creates a knowledge gap for developers inheriting the code. Understanding why specific data structures were chosen becomes challenging, hindering efficient code comprehension and modification.\\nFurthermore, neglecting clear error-handling mechanisms for data structures and data operation may result in unhandled exceptions or incorrect behaviour during unexpected situations. Disregarding the avoidance of unnecessary complexity in favour of straightforward solutions can lead to convoluted code, challenging developers to understand and optimize the algorithm, with potential implications for data operations. This complexity may extend to the use of data structures, introducing confusion about their role and impeding developers in troubleshooting or enhancing the algorithm.\\nApplying clean coding techniques significantly influences data operations within algorithmic code. Descriptive names enhance readability, aiding developers in effectively manipulating and managing data. Designing functions and classes with a single, well-defined task maintains a coherent and understandable codebase, especially in data operations, preventing bloated functions that handle multiple responsibilities. Eliminating redundancy through abstraction ensures efficient data operations, reducing the risk of inconsistencies in processing logic. Comments focusing on why, not just what facilitate understanding, fostering collaboration and informed decision-making.\\nBreaking down code into smaller, modular components that perform specific tasks is impactful for data operations, preventing monolithic code and facilitating the isolation and optimization of data processing logic.\\n\\n\\nP3:\\nDesign a large data set processing application, utilising SOLID principles, clean coding techniques and a design pattern.\\n\\nWe are creating a super cool application for Acend, the mobile company that was given to us in our brief  of this assignment . This application needs to handle big chunks of data smoothly, and we want to build it in a way that makes sense and is easy to work with. So, we are going to follow some important rules (SOLID principles) and use a smart way of building things (Factory Method).\\n\\nEntities and Responsibilities:\\nEntities:\\nBelow is the list of entities that will be in the Acend Application\\n•\\tMobilePhone (A5, A7, A9)\\n•\\tMobilePhoneFactory\\n•\\tCallProcessor\\n•\\tTextProcessor\\nResponsibilities:\\nHere is the responsibility of the above mentioned entites\\nMobilePhone: Represents the mobile phones with common functionalities.\\nMobilePhoneFactory: Responsible for creating instances of different types of mobile phones.\\nCallProcessor: Handles call-related functionalities.\\nTextProcessor: Handles text-related functionalities.\\nOur Application of Acend Will Follow SOLID Principles:\\nSingle Responsibility Principle (SRP):\\nEach class will have a specific role and it will ensure clarity and ease of modification that will have o do in future because of the some unexpected reasons.\\nMobilePhone: Manages core mobile functionalities.\\nMobilePhoneFactory: Creates diverse mobile phone instances.\\nCallProcessor: Handles call-related tasks.\\nTextProcessor: Manages text-related functions.\\nOpen/Closed Principle (OCP):\\nAcend Applications classes will welcome new features to add in the class , however without altering existing ones.\\nExpand capabilities by introducing new classes.\\nExample: Enhance a particular mobile phone type without changing the base MobilePhone class.\\nLiskov Substitution Principle (LSP):\\nSubclass objects will seamlessly replace superclass objects.\\nAssure interchange ability among specific phone types (A5, A7, A9) and the base MobilePhone class.\\nInterface Segregation Principle (ISP):\\nOur Acend classes will not be compelled to implement unnecessary interfaces.\\nSplit interfaces into smaller, task-specific ones.\\nExample: Introduce separate interfaces like CallProcessor and TextProcessor for distinct functionalities.\\n Dependency Inversion Principle (DIP):\\nHigh-level and low-level modules will depend on abstractions,  and not will depend on the  details.\\nRely on abstract interfaces (abstractions) rather than specific implementations.\\nExample: MobilePhoneFactory depends on the abstract MobilePhone class for flexibility.\\nImplementation:\\n \\n \\n \\n \\n \\n. it is your job to create 5 Conceptual and real use case multiple choice questions from the  Advance Programming Domains students and Your Question Difficuuilty Level sould be  Advanced.\\n\\n    - Here are some instruction You Must folow Otherwise You will Be Penelaized\\n    No intro needed, just jump straight into the MCQs\\n    Mcqs Should be in the Given Format and here is this format \\n    1 : multiple choice question.\\n    options\\n        a: choice here\\n        b: choice here\\n        c: choice here\\n        d: choice here\\n        \\n    correct: correct answer\\n\\n    2 : multiple choice question.\\n    options\\n        a: choice here\\n        b: choice here\\n        c: choice here\\n        d: choice here\\n        \\n    correct: correct answer\\n    3 : multiple choice question\\n    options\\n        a: choice here\\n        b: choice here\\n        c: choice here\\n        d: choice here\\n        \\n    correct: correct answer\\n    \\n\\n     .\\n    USe different type of MCqs asking Technique to generate the Mcqs\\n    Generate the Mcqs for test the ability of the Students About the Advance Programming\\n    Make sure the questions are not repeated and check all the questions to be conforming the text as well.\\n    Ensure to make 5 MCQs \\n    You have to Give Only the  Only Mcqs and not give any type of information  About the Advance Programming and only  tell the correct answer  Number in the end of Each MCQ'"
      ]
     },
     "execution_count": 167,
     "metadata": {},
     "output_type": "execute_result"
    }
   ],
   "source": [
    "prompt"
   ]
  },
  {
   "cell_type": "code",
   "execution_count": 168,
   "metadata": {},
   "outputs": [],
   "source": [
    "response=llm.invoke(prompt)"
   ]
  },
  {
   "cell_type": "code",
   "execution_count": 182,
   "metadata": {},
   "outputs": [],
   "source": [
    "response=response.replace(\"*\",\"\")"
   ]
  },
  {
   "cell_type": "code",
   "execution_count": 3,
   "metadata": {},
   "outputs": [
    {
     "name": "stdout",
     "output_type": "stream",
     "text": [
      "Collecting pypdf\n",
      "  Downloading pypdf-4.2.0-py3-none-any.whl.metadata (7.4 kB)\n",
      "Requirement already satisfied: typing_extensions>=4.0 in e:\\mcqgen2\\env2\\lib\\site-packages (from pypdf) (4.11.0)\n",
      "Downloading pypdf-4.2.0-py3-none-any.whl (290 kB)\n",
      "   ---------------------------------------- 0.0/290.4 kB ? eta -:--:--\n",
      "   - -------------------------------------- 10.2/290.4 kB ? eta -:--:--\n",
      "   -- ------------------------------------ 20.5/290.4 kB 222.6 kB/s eta 0:00:02\n",
      "   ----- --------------------------------- 41.0/290.4 kB 219.4 kB/s eta 0:00:02\n",
      "   ----- --------------------------------- 41.0/290.4 kB 219.4 kB/s eta 0:00:02\n",
      "   ----- --------------------------------- 41.0/290.4 kB 219.4 kB/s eta 0:00:02\n",
      "   -------- ------------------------------ 61.4/290.4 kB 193.2 kB/s eta 0:00:02\n",
      "   ---------- ---------------------------- 81.9/290.4 kB 218.5 kB/s eta 0:00:01\n",
      "   ---------- ---------------------------- 81.9/290.4 kB 218.5 kB/s eta 0:00:01\n",
      "   ------------ -------------------------- 92.2/290.4 kB 201.8 kB/s eta 0:00:01\n",
      "   -------------- ----------------------- 112.6/290.4 kB 218.8 kB/s eta 0:00:01\n",
      "   -------------- ----------------------- 112.6/290.4 kB 218.8 kB/s eta 0:00:01\n",
      "   -------------- ----------------------- 112.6/290.4 kB 218.8 kB/s eta 0:00:01\n",
      "   ------------------ ------------------- 143.4/290.4 kB 208.0 kB/s eta 0:00:01\n",
      "   -------------------- ----------------- 153.6/290.4 kB 218.5 kB/s eta 0:00:01\n",
      "   -------------------- ----------------- 153.6/290.4 kB 218.5 kB/s eta 0:00:01\n",
      "   -------------------- ----------------- 153.6/290.4 kB 218.5 kB/s eta 0:00:01\n",
      "   -------------------- ----------------- 153.6/290.4 kB 218.5 kB/s eta 0:00:01\n",
      "   -------------------- ----------------- 153.6/290.4 kB 218.5 kB/s eta 0:00:01\n",
      "   -------------------- ----------------- 153.6/290.4 kB 218.5 kB/s eta 0:00:01\n",
      "   -------------------- ----------------- 153.6/290.4 kB 218.5 kB/s eta 0:00:01\n",
      "   -------------------- ----------------- 153.6/290.4 kB 218.5 kB/s eta 0:00:01\n",
      "   -------------------- ----------------- 153.6/290.4 kB 218.5 kB/s eta 0:00:01\n",
      "   -------------------- ----------------- 153.6/290.4 kB 218.5 kB/s eta 0:00:01\n",
      "   -------------------- ----------------- 153.6/290.4 kB 218.5 kB/s eta 0:00:01\n",
      "   ------------------------ ------------- 184.3/290.4 kB 142.9 kB/s eta 0:00:01\n",
      "   ------------------------ ------------- 184.3/290.4 kB 142.9 kB/s eta 0:00:01\n",
      "   ------------------------ ------------- 184.3/290.4 kB 142.9 kB/s eta 0:00:01\n",
      "   -------------------------- ----------- 204.8/290.4 kB 143.2 kB/s eta 0:00:01\n",
      "   -------------------------- ----------- 204.8/290.4 kB 143.2 kB/s eta 0:00:01\n",
      "   -------------------------- ----------- 204.8/290.4 kB 143.2 kB/s eta 0:00:01\n",
      "   -------------------------- ----------- 204.8/290.4 kB 143.2 kB/s eta 0:00:01\n",
      "   ----------------------------- -------- 225.3/290.4 kB 136.3 kB/s eta 0:00:01\n",
      "   ----------------------------- -------- 225.3/290.4 kB 136.3 kB/s eta 0:00:01\n",
      "   ----------------------------- -------- 225.3/290.4 kB 136.3 kB/s eta 0:00:01\n",
      "   ----------------------------- -------- 225.3/290.4 kB 136.3 kB/s eta 0:00:01\n",
      "   ----------------------------- -------- 225.3/290.4 kB 136.3 kB/s eta 0:00:01\n",
      "   ----------------------------- -------- 225.3/290.4 kB 136.3 kB/s eta 0:00:01\n",
      "   ----------------------------- -------- 225.3/290.4 kB 136.3 kB/s eta 0:00:01\n",
      "   ----------------------------- -------- 225.3/290.4 kB 136.3 kB/s eta 0:00:01\n",
      "   ----------------------------- -------- 225.3/290.4 kB 136.3 kB/s eta 0:00:01\n",
      "   ----------------------------- -------- 225.3/290.4 kB 136.3 kB/s eta 0:00:01\n",
      "   ----------------------------- -------- 225.3/290.4 kB 136.3 kB/s eta 0:00:01\n",
      "   ----------------------------- -------- 225.3/290.4 kB 136.3 kB/s eta 0:00:01\n",
      "   ------------------------------ ------- 235.5/290.4 kB 102.3 kB/s eta 0:00:01\n",
      "   ------------------------------ ------- 235.5/290.4 kB 102.3 kB/s eta 0:00:01\n",
      "   ------------------------------ ------- 235.5/290.4 kB 102.3 kB/s eta 0:00:01\n",
      "   ------------------------------ ------- 235.5/290.4 kB 102.3 kB/s eta 0:00:01\n",
      "   ------------------------------ ------- 235.5/290.4 kB 102.3 kB/s eta 0:00:01\n",
      "   --------------------------------- ---- 256.0/290.4 kB 100.2 kB/s eta 0:00:01\n",
      "   --------------------------------- ---- 256.0/290.4 kB 100.2 kB/s eta 0:00:01\n",
      "   --------------------------------- ---- 256.0/290.4 kB 100.2 kB/s eta 0:00:01\n",
      "   --------------------------------- ---- 256.0/290.4 kB 100.2 kB/s eta 0:00:01\n",
      "   --------------------------------- ---- 256.0/290.4 kB 100.2 kB/s eta 0:00:01\n",
      "   --------------------------------- ---- 256.0/290.4 kB 100.2 kB/s eta 0:00:01\n",
      "   ----------------------------------- --- 266.2/290.4 kB 94.7 kB/s eta 0:00:01\n",
      "   ----------------------------------- --- 266.2/290.4 kB 94.7 kB/s eta 0:00:01\n",
      "   ----------------------------------- --- 266.2/290.4 kB 94.7 kB/s eta 0:00:01\n",
      "   ----------------------------------- --- 266.2/290.4 kB 94.7 kB/s eta 0:00:01\n",
      "   ----------------------------------- --- 266.2/290.4 kB 94.7 kB/s eta 0:00:01\n",
      "   ----------------------------------- --- 266.2/290.4 kB 94.7 kB/s eta 0:00:01\n",
      "   ----------------------------------- --- 266.2/290.4 kB 94.7 kB/s eta 0:00:01\n",
      "   ----------------------------------- --- 266.2/290.4 kB 94.7 kB/s eta 0:00:01\n",
      "   ----------------------------------- --- 266.2/290.4 kB 94.7 kB/s eta 0:00:01\n",
      "   ----------------------------------- --- 266.2/290.4 kB 94.7 kB/s eta 0:00:01\n",
      "   ----------------------------------- --- 266.2/290.4 kB 94.7 kB/s eta 0:00:01\n",
      "   ----------------------------------- --- 266.2/290.4 kB 94.7 kB/s eta 0:00:01\n",
      "   ----------------------------------- --- 266.2/290.4 kB 94.7 kB/s eta 0:00:01\n",
      "   ----------------------------------- --- 266.2/290.4 kB 94.7 kB/s eta 0:00:01\n",
      "   --------------------------------------- 290.4/290.4 kB 82.3 kB/s eta 0:00:00\n",
      "Installing collected packages: pypdf\n",
      "Successfully installed pypdf-4.2.0\n",
      "Note: you may need to restart the kernel to use updated packages.\n"
     ]
    }
   ],
   "source": [
    "pip install pypdf"
   ]
  },
  {
   "cell_type": "code",
   "execution_count": 1,
   "metadata": {},
   "outputs": [],
   "source": [
    "from langchain_community.document_loaders import PyPDFLoader"
   ]
  },
  {
   "cell_type": "code",
   "execution_count": 4,
   "metadata": {},
   "outputs": [],
   "source": [
    "loader = PyPDFLoader(r\"E:/final_mcq_gen/anurh-ranushka-unit-14-business-intelligence.pdf\")\n",
    "pages = loader.load_and_split()\n",
    "text=\"\"\n",
    "for page in pages:\n",
    "    text+=page.page_content"
   ]
  },
  {
   "cell_type": "code",
   "execution_count": 8,
   "metadata": {},
   "outputs": [
    {
     "data": {
      "text/plain": [
       "list"
      ]
     },
     "execution_count": 8,
     "metadata": {},
     "output_type": "execute_result"
    }
   ],
   "source": [
    "type(pages)"
   ]
  },
  {
   "cell_type": "code",
   "execution_count": 1,
   "metadata": {},
   "outputs": [
    {
     "name": "stderr",
     "output_type": "stream",
     "text": [
      "e:\\mcqgen2\\env2\\lib\\site-packages\\tqdm\\auto.py:21: TqdmWarning: IProgress not found. Please update jupyter and ipywidgets. See https://ipywidgets.readthedocs.io/en/stable/user_install.html\n",
      "  from .autonotebook import tqdm as notebook_tqdm\n"
     ]
    }
   ],
   "source": [
    "from langchain_google_genai import GoogleGenerativeAI\n"
   ]
  },
  {
   "cell_type": "code",
   "execution_count": 4,
   "metadata": {},
   "outputs": [],
   "source": [
    "model=GoogleGenerativeAI(model=\"gemini-pro\")"
   ]
  },
  {
   "cell_type": "code",
   "execution_count": null,
   "metadata": {},
   "outputs": [],
   "source": [
    "model.invoke"
   ]
  },
  {
   "cell_type": "code",
   "execution_count": null,
   "metadata": {},
   "outputs": [],
   "source": []
  }
 ],
 "metadata": {
  "kernelspec": {
   "display_name": "Python 3",
   "language": "python",
   "name": "python3"
  },
  "language_info": {
   "codemirror_mode": {
    "name": "ipython",
    "version": 3
   },
   "file_extension": ".py",
   "mimetype": "text/x-python",
   "name": "python",
   "nbconvert_exporter": "python",
   "pygments_lexer": "ipython3",
   "version": "3.10.14"
  }
 },
 "nbformat": 4,
 "nbformat_minor": 2
}
